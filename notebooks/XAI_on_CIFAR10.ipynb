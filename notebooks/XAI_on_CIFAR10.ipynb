{
 "cells": [
  {
   "cell_type": "markdown",
   "metadata": {},
   "source": [
    "### TODOs:\n",
    "* Devolop methods for better testing"
   ]
  },
  {
   "cell_type": "markdown",
   "metadata": {},
   "source": [
    "# Changelog\n",
    "* Modified _save_heatmaps() to save images on disk. Now optimized and correct dimensions.\n",
    "* Modified Pipeline.show_heatmap() to only show and not save\n",
    "* Added PascalVoc and Imagenet datasets\n",
    "* Added HeatmapDataset class (to be wrapped in dataloader with correct batch size)\n",
    "* Changed biasedcifar10.py -> biased_datasets.py to include all datasets (included biased PascalVOC)\n",
    "* Deleted non-biased datasets. Non biased is done by setting bias_method=None"
   ]
  },
  {
   "cell_type": "code",
   "execution_count": 1,
   "metadata": {},
   "outputs": [],
   "source": [
    "import matplotlib.pyplot as plt\n",
    "import numpy as np\n",
    "\n",
    "%matplotlib inline\n",
    "\n",
    "%load_ext autoreload\n",
    "%autoreload 2\n",
    "\n",
    "import torch\n",
    "\n",
    "import torchvision.transforms as transforms\n",
    "import torch.nn as nn\n",
    "import torch.optim as optim\n",
    "\n",
    "\n",
    "from src.utils import *\n",
    "from src.pipeline import Pipeline\n",
    "\n",
    "import os\n",
    "\n",
    "from sklearn.cluster import OPTICS, cluster_optics_dbscan"
   ]
  },
  {
   "cell_type": "code",
   "execution_count": 6,
   "metadata": {},
   "outputs": [
    {
     "name": "stdout",
     "output_type": "stream",
     "text": [
      "torch.Size([1, 1, 32, 32])\n",
      "tensor([8])\n"
     ]
    },
    {
     "data": {
      "image/png": "[encoded data removed]",
      "text/plain": [
       "<Figure size 432x288 with 1 Axes>"
      ]
     },
     "metadata": {
      "needs_background": "light"
     },
     "output_type": "display_data"
    }
   ],
   "source": [
    "im, t = dataiter.next()\n",
    "print(im.shape)\n",
    "print(t)\n",
    "image_to_show = np.transpose(im[0].cpu().detach().numpy(), (2, 1, 0)) #torch.transpose(im[0], [2, 1, 0])\n",
    "\n",
    "plt.imshow(image_to_show)\n",
    "plt.show()"
   ]
  },
  {
   "cell_type": "code",
   "execution_count": 2,
   "metadata": {},
   "outputs": [
    {
     "name": "stdout",
     "output_type": "stream",
     "text": [
      "Files already downloaded and verified\n",
      "Files already downloaded and verified\n",
      "[Epoch 1, batch   100] loss: 0.0153, accuracy 0.239\n",
      "[Epoch 1, batch   200] loss: 0.0060, accuracy 0.309\n",
      "[Epoch 1, batch   300] loss: 0.0037, accuracy 0.352\n",
      "[Epoch 2, batch   100] loss: 0.0096, accuracy 0.523\n",
      "[Epoch 2, batch   200] loss: 0.0046, accuracy 0.539\n",
      "[Epoch 2, batch   300] loss: 0.0029, accuracy 0.551\n",
      "[Epoch 3, batch   100] loss: 0.0081, accuracy 0.616\n",
      "[Epoch 3, batch   200] loss: 0.0039, accuracy 0.621\n",
      "[Epoch 3, batch   300] loss: 0.0026, accuracy 0.626\n",
      "[Epoch 4, batch   100] loss: 0.0070, accuracy 0.673\n",
      "[Epoch 4, batch   200] loss: 0.0034, accuracy 0.678\n",
      "[Epoch 4, batch   300] loss: 0.0023, accuracy 0.679\n",
      "[Epoch 5, batch   100] loss: 0.0061, accuracy 0.717\n",
      "[Epoch 5, batch   200] loss: 0.0031, accuracy 0.715\n",
      "[Epoch 5, batch   300] loss: 0.0021, accuracy 0.714\n",
      "[Epoch 6, batch   100] loss: 0.0056, accuracy 0.741\n",
      "[Epoch 6, batch   200] loss: 0.0028, accuracy 0.743\n",
      "[Epoch 6, batch   300] loss: 0.0019, accuracy 0.743\n",
      "Accuracy of the network on the 10000 test images: 0.713, loss: 0.808\n",
      "SAVING AT PATH: ../../../../../../nas/data/nesti_pacini/models/AlexNetBiasedCIFAR10box6.pt\n",
      "SAVED MODEL\n",
      "Heatmap Generation started\n",
      "-- Iteration:  0 , Running Time:  00h:00m:00s  --\n",
      "-- Iteration:  1000 , Running Time:  00h:00m:06s  --\n",
      "-- Iteration:  2000 , Running Time:  00h:00m:13s  --\n",
      "-- Iteration:  3000 , Running Time:  00h:00m:19s  --\n",
      "-- Iteration:  4000 , Running Time:  00h:00m:26s  --\n",
      "-- Iteration:  5000 , Running Time:  00h:00m:32s  --\n",
      "-- Iteration:  6000 , Running Time:  00h:00m:39s  --\n",
      "-- Iteration:  7000 , Running Time:  00h:00m:45s  --\n",
      "-- Iteration:  8000 , Running Time:  00h:00m:52s  --\n",
      "-- Iteration:  9000 , Running Time:  00h:00m:59s  --\n",
      "Heatmaps generation started. Computing approx ETA...\n",
      "Expected ETA is 00h:04m:19s\n",
      "Saving heatmap 1000/10000, elapsed time: 00h:00m:25s\n",
      "Saving heatmap 2000/10000, elapsed time: 00h:00m:51s\n",
      "Saving heatmap 3000/10000, elapsed time: 00h:01m:17s\n",
      "Saving heatmap 4000/10000, elapsed time: 00h:01m:43s\n",
      "Saving heatmap 5000/10000, elapsed time: 00h:02m:09s\n",
      "Saving heatmap 6000/10000, elapsed time: 00h:02m:36s\n",
      "Saving heatmap 7000/10000, elapsed time: 00h:03m:01s\n",
      "Saving heatmap 8000/10000, elapsed time: 00h:03m:27s\n",
      "Saving heatmap 9000/10000, elapsed time: 00h:03m:53s\n",
      "Saving heatmap 10000/10000, elapsed time: 00h:04m:20s\n",
      "Heatmap Generation Completed\n",
      "LOADING CLUSTER\n",
      "CLUSTER LOADED\n"
     ]
    }
   ],
   "source": [
    "min_samples = 20\n",
    "xi=.05\n",
    "min_cluster_size=.05\n",
    "clust = OPTICS(min_samples=min_samples, xi=xi, min_cluster_size=min_cluster_size)\n",
    "\n",
    "pip = Pipeline(dataset='CIFAR10', \n",
    "               dataloader='standard', \n",
    "               model='alexnet',\n",
    "               device=torch.device(\"cuda\"),\n",
    "               biased_class=6,\n",
    "               bias_method='box',\n",
    "               explainer = 'saliency',\n",
    "               clustering_method = clust)\n",
    "#                heatmaps_path='/nas/data/nesti_pacini/HEATMAPS_DATASETS/cifar').run(\n",
    "\n",
    "_ = pip.run()\n",
    "# _ = pip.train(criterion = nn.CrossEntropyLoss())#, optimizer = optim.Adam(self.model.parameters(), lr=0.001))"
   ]
  },
  {
   "cell_type": "code",
   "execution_count": null,
   "metadata": {},
   "outputs": [],
   "source": [
    "print(np.unique(pip.clusters))"
   ]
  },
  {
   "cell_type": "code",
   "execution_count": null,
   "metadata": {},
   "outputs": [],
   "source": [
    "pip.show_heatmap(num=2, selected_class = 6, only_correct=True)"
   ]
  },
  {
   "cell_type": "code",
   "execution_count": null,
   "metadata": {},
   "outputs": [],
   "source": [
    "pip.tsne(selected_class = 6, only_correct=True)"
   ]
  },
  {
   "cell_type": "code",
   "execution_count": null,
   "metadata": {},
   "outputs": [],
   "source": [
    "min_samples = 20\n",
    "xi=.05\n",
    "min_cluster_size=.05\n",
    "clust = OPTICS(min_samples=min_samples, xi=xi, min_cluster_size=min_cluster_size)\n",
    "\n",
    "pip = Pipeline(dataset='CIFAR10', \n",
    "               dataloader='standard', \n",
    "               model='alexnet',\n",
    "               device=torch.device(\"cuda\"),\n",
    "               biased_class=6,\n",
    "               bias_method='box',\n",
    "               explainer = 'saliency',\n",
    "               clustering_method = clust)\n",
    "\n",
    "pip = Pipeline(dataset='imagenet', \n",
    "               dataloader='standard', \n",
    "               model='alexnet',\n",
    "               device=torch.device(\"cuda\"),\n",
    "               biased_class=0,\n",
    "               bias_method='pad',\n",
    "               explainer='lrp')\n",
    "_ = pip.run()"
   ]
  },
  {
   "cell_type": "code",
   "execution_count": null,
   "metadata": {},
   "outputs": [],
   "source": [
    "from imagenet_utils.imagenet_utils import VOC_MEAN\n",
    "mu = np.array(VOC_MEAN).reshape((3, 1, 1)) #[[[VOC_MEAN[0]]], [[VOC_MEAN[1]]], [[VOC_MEAN[2]]]]\n",
    "pip.show_heatmap(num=10, selected_class=0, only_correct=False, normalization=(mu, 255))"
   ]
  }
 ],
 "metadata": {
  "kernelspec": {
   "display_name": "XAI Analysis",
   "language": "python",
   "name": "xai-proj"
  },
  "language_info": {
   "codemirror_mode": {
    "name": "ipython",
    "version": 3
   },
   "file_extension": ".py",
   "mimetype": "text/x-python",
   "name": "python",
   "nbconvert_exporter": "python",
   "pygments_lexer": "ipython3",
   "version": "3.6.9"
  }
 },
 "nbformat": 4,
 "nbformat_minor": 4
}
